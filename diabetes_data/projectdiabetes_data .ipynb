{
 "cells": [
  {
   "cell_type": "code",
   "execution_count": 83,
   "id": "70d4d3c8-57c2-4e2d-8965-b282e4b67bfc",
   "metadata": {},
   "outputs": [
    {
     "data": {
      "text/html": [
       "<div>\n",
       "<style scoped>\n",
       "    .dataframe tbody tr th:only-of-type {\n",
       "        vertical-align: middle;\n",
       "    }\n",
       "\n",
       "    .dataframe tbody tr th {\n",
       "        vertical-align: top;\n",
       "    }\n",
       "\n",
       "    .dataframe thead th {\n",
       "        text-align: right;\n",
       "    }\n",
       "</style>\n",
       "<table border=\"1\" class=\"dataframe\">\n",
       "  <thead>\n",
       "    <tr style=\"text-align: right;\">\n",
       "      <th></th>\n",
       "      <th>Age</th>\n",
       "      <th>Sexe</th>\n",
       "      <th>BMI</th>\n",
       "      <th>Glucose</th>\n",
       "      <th>Blood Pressure</th>\n",
       "      <th>Insulin</th>\n",
       "      <th>Skin Thickness</th>\n",
       "      <th>Diabetes Pedigree Function</th>\n",
       "      <th>Outcome</th>\n",
       "    </tr>\n",
       "  </thead>\n",
       "  <tbody>\n",
       "    <tr>\n",
       "      <th>0</th>\n",
       "      <td>50.0</td>\n",
       "      <td>Homme</td>\n",
       "      <td>30.1</td>\n",
       "      <td>160</td>\n",
       "      <td>85.0</td>\n",
       "      <td>94.0</td>\n",
       "      <td>23.0</td>\n",
       "      <td>0.6</td>\n",
       "      <td>1</td>\n",
       "    </tr>\n",
       "    <tr>\n",
       "      <th>1</th>\n",
       "      <td>45.0</td>\n",
       "      <td>Femme</td>\n",
       "      <td>90.0</td>\n",
       "      <td>140</td>\n",
       "      <td>90.0</td>\n",
       "      <td>NaN</td>\n",
       "      <td>19.0</td>\n",
       "      <td>0.3</td>\n",
       "      <td>0</td>\n",
       "    </tr>\n",
       "    <tr>\n",
       "      <th>2</th>\n",
       "      <td>60.0</td>\n",
       "      <td>Homme</td>\n",
       "      <td>35.0</td>\n",
       "      <td>400</td>\n",
       "      <td>NaN</td>\n",
       "      <td>130.0</td>\n",
       "      <td>25.0</td>\n",
       "      <td>0.8</td>\n",
       "      <td>1</td>\n",
       "    </tr>\n",
       "    <tr>\n",
       "      <th>3</th>\n",
       "      <td>NaN</td>\n",
       "      <td>Femme</td>\n",
       "      <td>24.7</td>\n",
       "      <td>120</td>\n",
       "      <td>75.0</td>\n",
       "      <td>85.0</td>\n",
       "      <td>22.0</td>\n",
       "      <td>0.2</td>\n",
       "      <td>0</td>\n",
       "    </tr>\n",
       "    <tr>\n",
       "      <th>4</th>\n",
       "      <td>40.0</td>\n",
       "      <td>Homme</td>\n",
       "      <td>29.0</td>\n",
       "      <td>150</td>\n",
       "      <td>20.0</td>\n",
       "      <td>100.0</td>\n",
       "      <td>NaN</td>\n",
       "      <td>0.5</td>\n",
       "      <td>1</td>\n",
       "    </tr>\n",
       "  </tbody>\n",
       "</table>\n",
       "</div>"
      ],
      "text/plain": [
       "    Age   Sexe   BMI  Glucose  Blood Pressure  Insulin  Skin Thickness  \\\n",
       "0  50.0  Homme  30.1      160            85.0     94.0            23.0   \n",
       "1  45.0  Femme  90.0      140            90.0      NaN            19.0   \n",
       "2  60.0  Homme  35.0      400             NaN    130.0            25.0   \n",
       "3   NaN  Femme  24.7      120            75.0     85.0            22.0   \n",
       "4  40.0  Homme  29.0      150            20.0    100.0             NaN   \n",
       "\n",
       "   Diabetes Pedigree Function  Outcome  \n",
       "0                         0.6        1  \n",
       "1                         0.3        0  \n",
       "2                         0.8        1  \n",
       "3                         0.2        0  \n",
       "4                         0.5        1  "
      ]
     },
     "execution_count": 83,
     "metadata": {},
     "output_type": "execute_result"
    }
   ],
   "source": [
    "import pandas as pd\n",
    "df =  pd.read_csv('diabetes_data.csv' , delimiter=',')\n",
    "df.head()\n"
   ]
  },
  {
   "cell_type": "code",
   "execution_count": 84,
   "id": "d9fa5fef-6f3a-4755-a092-8f4f956003c0",
   "metadata": {},
   "outputs": [
    {
     "name": "stdout",
     "output_type": "stream",
     "text": [
      "<class 'pandas.core.frame.DataFrame'>\n",
      "RangeIndex: 10 entries, 0 to 9\n",
      "Data columns (total 9 columns):\n",
      " #   Column                      Non-Null Count  Dtype  \n",
      "---  ------                      --------------  -----  \n",
      " 0   Age                         8 non-null      float64\n",
      " 1   Sexe                        10 non-null     object \n",
      " 2   BMI                         9 non-null      float64\n",
      " 3   Glucose                     10 non-null     int64  \n",
      " 4   Blood Pressure              9 non-null      float64\n",
      " 5   Insulin                     8 non-null      float64\n",
      " 6   Skin Thickness              8 non-null      float64\n",
      " 7   Diabetes Pedigree Function  9 non-null      float64\n",
      " 8   Outcome                     10 non-null     int64  \n",
      "dtypes: float64(6), int64(2), object(1)\n",
      "memory usage: 852.0+ bytes\n"
     ]
    }
   ],
   "source": [
    "df.info()\n",
    "#pour examiner le data set pour voir le valeur manquante"
   ]
  },
  {
   "cell_type": "code",
   "execution_count": 85,
   "id": "213882b1-08e0-43f1-aae2-971eba3d2003",
   "metadata": {},
   "outputs": [
    {
     "name": "stdout",
     "output_type": "stream",
     "text": [
      "<class 'pandas.core.frame.DataFrame'>\n",
      "RangeIndex: 10 entries, 0 to 9\n",
      "Data columns (total 9 columns):\n",
      " #   Column                      Non-Null Count  Dtype  \n",
      "---  ------                      --------------  -----  \n",
      " 0   Age                         10 non-null     float64\n",
      " 1   Sexe                        10 non-null     object \n",
      " 2   BMI                         9 non-null      float64\n",
      " 3   Glucose                     10 non-null     int64  \n",
      " 4   Blood Pressure              9 non-null      float64\n",
      " 5   Insulin                     8 non-null      float64\n",
      " 6   Skin Thickness              8 non-null      float64\n",
      " 7   Diabetes Pedigree Function  9 non-null      float64\n",
      " 8   Outcome                     10 non-null     int64  \n",
      "dtypes: float64(6), int64(2), object(1)\n",
      "memory usage: 852.0+ bytes\n"
     ]
    }
   ],
   "source": [
    "#Replace les valeurs manquantes par les valeurs approriées\n",
    "#catégorielle : remplacement par une valeur courante\n",
    "# Valeur numérique:remplacement par la moyenne \n",
    "df['Age'].fillna(df['Age'].mean(),inplace=True)\n",
    "df.info()"
   ]
  },
  {
   "cell_type": "code",
   "execution_count": 86,
   "id": "8c35ea9a-ef10-4e48-898f-3759f01b780e",
   "metadata": {},
   "outputs": [
    {
     "name": "stdout",
     "output_type": "stream",
     "text": [
      "<class 'pandas.core.frame.DataFrame'>\n",
      "RangeIndex: 10 entries, 0 to 9\n",
      "Data columns (total 9 columns):\n",
      " #   Column                      Non-Null Count  Dtype  \n",
      "---  ------                      --------------  -----  \n",
      " 0   Age                         10 non-null     float64\n",
      " 1   Sexe                        10 non-null     object \n",
      " 2   BMI                         10 non-null     float64\n",
      " 3   Glucose                     10 non-null     int64  \n",
      " 4   Blood Pressure              9 non-null      float64\n",
      " 5   Insulin                     8 non-null      float64\n",
      " 6   Skin Thickness              8 non-null      float64\n",
      " 7   Diabetes Pedigree Function  9 non-null      float64\n",
      " 8   Outcome                     10 non-null     int64  \n",
      "dtypes: float64(6), int64(2), object(1)\n",
      "memory usage: 852.0+ bytes\n"
     ]
    }
   ],
   "source": [
    "df['BMI'].fillna(df['BMI'].mean(),inplace =True)\n",
    "df.info()"
   ]
  },
  {
   "cell_type": "code",
   "execution_count": 87,
   "id": "4044a0ec-eebd-4253-b135-1b846da41621",
   "metadata": {},
   "outputs": [
    {
     "name": "stdout",
     "output_type": "stream",
     "text": [
      "<class 'pandas.core.frame.DataFrame'>\n",
      "RangeIndex: 10 entries, 0 to 9\n",
      "Data columns (total 9 columns):\n",
      " #   Column                      Non-Null Count  Dtype  \n",
      "---  ------                      --------------  -----  \n",
      " 0   Age                         10 non-null     float64\n",
      " 1   Sexe                        10 non-null     object \n",
      " 2   BMI                         10 non-null     float64\n",
      " 3   Glucose                     10 non-null     int64  \n",
      " 4   Blood Pressure              9 non-null      float64\n",
      " 5   Insulin                     8 non-null      float64\n",
      " 6   Skin Thickness              10 non-null     float64\n",
      " 7   Diabetes Pedigree Function  9 non-null      float64\n",
      " 8   Outcome                     10 non-null     int64  \n",
      "dtypes: float64(6), int64(2), object(1)\n",
      "memory usage: 852.0+ bytes\n"
     ]
    }
   ],
   "source": [
    "df['Skin Thickness'].fillna(df['Skin Thickness'].mean(),inplace=True)\n",
    "df.info()"
   ]
  },
  {
   "cell_type": "code",
   "execution_count": 88,
   "id": "b2fe0da7-c439-42ca-a7dc-abd324bf468d",
   "metadata": {},
   "outputs": [
    {
     "name": "stdout",
     "output_type": "stream",
     "text": [
      "<class 'pandas.core.frame.DataFrame'>\n",
      "RangeIndex: 10 entries, 0 to 9\n",
      "Data columns (total 9 columns):\n",
      " #   Column                      Non-Null Count  Dtype  \n",
      "---  ------                      --------------  -----  \n",
      " 0   Age                         10 non-null     float64\n",
      " 1   Sexe                        10 non-null     object \n",
      " 2   BMI                         10 non-null     float64\n",
      " 3   Glucose                     10 non-null     int64  \n",
      " 4   Blood Pressure              10 non-null     float64\n",
      " 5   Insulin                     8 non-null      float64\n",
      " 6   Skin Thickness              10 non-null     float64\n",
      " 7   Diabetes Pedigree Function  9 non-null      float64\n",
      " 8   Outcome                     10 non-null     int64  \n",
      "dtypes: float64(6), int64(2), object(1)\n",
      "memory usage: 852.0+ bytes\n"
     ]
    }
   ],
   "source": [
    "df['Blood Pressure'].fillna(df['Blood Pressure'].mean(),inplace=True)\n",
    "df.info()"
   ]
  },
  {
   "cell_type": "code",
   "execution_count": 89,
   "id": "8b2e46ba-88b6-496f-a92a-980a95725aa5",
   "metadata": {},
   "outputs": [
    {
     "name": "stdout",
     "output_type": "stream",
     "text": [
      "<class 'pandas.core.frame.DataFrame'>\n",
      "RangeIndex: 10 entries, 0 to 9\n",
      "Data columns (total 9 columns):\n",
      " #   Column                      Non-Null Count  Dtype  \n",
      "---  ------                      --------------  -----  \n",
      " 0   Age                         10 non-null     float64\n",
      " 1   Sexe                        10 non-null     object \n",
      " 2   BMI                         10 non-null     float64\n",
      " 3   Glucose                     10 non-null     int64  \n",
      " 4   Blood Pressure              10 non-null     float64\n",
      " 5   Insulin                     10 non-null     float64\n",
      " 6   Skin Thickness              10 non-null     float64\n",
      " 7   Diabetes Pedigree Function  9 non-null      float64\n",
      " 8   Outcome                     10 non-null     int64  \n",
      "dtypes: float64(6), int64(2), object(1)\n",
      "memory usage: 852.0+ bytes\n"
     ]
    }
   ],
   "source": [
    "df['Insulin'].fillna(df['Insulin'].mean(),inplace=True)\n",
    "df.info()"
   ]
  },
  {
   "cell_type": "code",
   "execution_count": 90,
   "id": "b6637aa8-bfe1-4da4-be80-2e694e29431b",
   "metadata": {},
   "outputs": [
    {
     "name": "stdout",
     "output_type": "stream",
     "text": [
      "<class 'pandas.core.frame.DataFrame'>\n",
      "RangeIndex: 10 entries, 0 to 9\n",
      "Data columns (total 9 columns):\n",
      " #   Column                      Non-Null Count  Dtype  \n",
      "---  ------                      --------------  -----  \n",
      " 0   Age                         10 non-null     float64\n",
      " 1   Sexe                        10 non-null     object \n",
      " 2   BMI                         10 non-null     float64\n",
      " 3   Glucose                     10 non-null     int64  \n",
      " 4   Blood Pressure              10 non-null     float64\n",
      " 5   Insulin                     10 non-null     float64\n",
      " 6   Skin Thickness              10 non-null     float64\n",
      " 7   Diabetes Pedigree Function  10 non-null     float64\n",
      " 8   Outcome                     10 non-null     int64  \n",
      "dtypes: float64(6), int64(2), object(1)\n",
      "memory usage: 852.0+ bytes\n"
     ]
    }
   ],
   "source": [
    "df['Diabetes Pedigree Function'].fillna(df['Diabetes Pedigree Function'].mean(),inplace=True)\n",
    "df.info()"
   ]
  },
  {
   "cell_type": "code",
   "execution_count": 91,
   "id": "85958bed-b21d-48e0-ab0e-d0360d353367",
   "metadata": {},
   "outputs": [
    {
     "data": {
      "text/html": [
       "<div>\n",
       "<style scoped>\n",
       "    .dataframe tbody tr th:only-of-type {\n",
       "        vertical-align: middle;\n",
       "    }\n",
       "\n",
       "    .dataframe tbody tr th {\n",
       "        vertical-align: top;\n",
       "    }\n",
       "\n",
       "    .dataframe thead th {\n",
       "        text-align: right;\n",
       "    }\n",
       "</style>\n",
       "<table border=\"1\" class=\"dataframe\">\n",
       "  <thead>\n",
       "    <tr style=\"text-align: right;\">\n",
       "      <th></th>\n",
       "      <th>Age</th>\n",
       "      <th>Sexe</th>\n",
       "      <th>BMI</th>\n",
       "      <th>Glucose</th>\n",
       "      <th>Blood Pressure</th>\n",
       "      <th>Insulin</th>\n",
       "      <th>Skin Thickness</th>\n",
       "      <th>Diabetes Pedigree Function</th>\n",
       "      <th>Outcome</th>\n",
       "    </tr>\n",
       "  </thead>\n",
       "  <tbody>\n",
       "    <tr>\n",
       "      <th>0</th>\n",
       "      <td>50.00</td>\n",
       "      <td>Homme</td>\n",
       "      <td>30.100000</td>\n",
       "      <td>160</td>\n",
       "      <td>85.000000</td>\n",
       "      <td>94.000</td>\n",
       "      <td>23.000</td>\n",
       "      <td>0.600000</td>\n",
       "      <td>1</td>\n",
       "    </tr>\n",
       "    <tr>\n",
       "      <th>1</th>\n",
       "      <td>45.00</td>\n",
       "      <td>Femme</td>\n",
       "      <td>90.000000</td>\n",
       "      <td>140</td>\n",
       "      <td>90.000000</td>\n",
       "      <td>127.375</td>\n",
       "      <td>19.000</td>\n",
       "      <td>0.300000</td>\n",
       "      <td>0</td>\n",
       "    </tr>\n",
       "    <tr>\n",
       "      <th>2</th>\n",
       "      <td>60.00</td>\n",
       "      <td>Homme</td>\n",
       "      <td>35.000000</td>\n",
       "      <td>400</td>\n",
       "      <td>78.333333</td>\n",
       "      <td>130.000</td>\n",
       "      <td>25.000</td>\n",
       "      <td>0.800000</td>\n",
       "      <td>1</td>\n",
       "    </tr>\n",
       "    <tr>\n",
       "      <th>3</th>\n",
       "      <td>49.25</td>\n",
       "      <td>Femme</td>\n",
       "      <td>24.700000</td>\n",
       "      <td>120</td>\n",
       "      <td>75.000000</td>\n",
       "      <td>85.000</td>\n",
       "      <td>22.000</td>\n",
       "      <td>0.200000</td>\n",
       "      <td>0</td>\n",
       "    </tr>\n",
       "    <tr>\n",
       "      <th>4</th>\n",
       "      <td>40.00</td>\n",
       "      <td>Homme</td>\n",
       "      <td>29.000000</td>\n",
       "      <td>150</td>\n",
       "      <td>20.000000</td>\n",
       "      <td>100.000</td>\n",
       "      <td>23.375</td>\n",
       "      <td>0.500000</td>\n",
       "      <td>1</td>\n",
       "    </tr>\n",
       "    <tr>\n",
       "      <th>5</th>\n",
       "      <td>55.00</td>\n",
       "      <td>Femme</td>\n",
       "      <td>32.500000</td>\n",
       "      <td>170</td>\n",
       "      <td>92.000000</td>\n",
       "      <td>110.000</td>\n",
       "      <td>26.000</td>\n",
       "      <td>0.977778</td>\n",
       "      <td>1</td>\n",
       "    </tr>\n",
       "    <tr>\n",
       "      <th>6</th>\n",
       "      <td>30.00</td>\n",
       "      <td>Homme</td>\n",
       "      <td>34.488889</td>\n",
       "      <td>115</td>\n",
       "      <td>78.000000</td>\n",
       "      <td>300.000</td>\n",
       "      <td>20.000</td>\n",
       "      <td>0.100000</td>\n",
       "      <td>0</td>\n",
       "    </tr>\n",
       "    <tr>\n",
       "      <th>7</th>\n",
       "      <td>52.00</td>\n",
       "      <td>Femme</td>\n",
       "      <td>31.500000</td>\n",
       "      <td>155</td>\n",
       "      <td>88.000000</td>\n",
       "      <td>105.000</td>\n",
       "      <td>23.375</td>\n",
       "      <td>0.400000</td>\n",
       "      <td>1</td>\n",
       "    </tr>\n",
       "    <tr>\n",
       "      <th>8</th>\n",
       "      <td>49.25</td>\n",
       "      <td>Homme</td>\n",
       "      <td>27.600000</td>\n",
       "      <td>145</td>\n",
       "      <td>82.000000</td>\n",
       "      <td>95.000</td>\n",
       "      <td>22.000</td>\n",
       "      <td>5.000000</td>\n",
       "      <td>0</td>\n",
       "    </tr>\n",
       "    <tr>\n",
       "      <th>9</th>\n",
       "      <td>62.00</td>\n",
       "      <td>Femme</td>\n",
       "      <td>10.000000</td>\n",
       "      <td>190</td>\n",
       "      <td>95.000000</td>\n",
       "      <td>127.375</td>\n",
       "      <td>30.000</td>\n",
       "      <td>0.900000</td>\n",
       "      <td>1</td>\n",
       "    </tr>\n",
       "  </tbody>\n",
       "</table>\n",
       "</div>"
      ],
      "text/plain": [
       "     Age   Sexe        BMI  Glucose  Blood Pressure  Insulin  Skin Thickness  \\\n",
       "0  50.00  Homme  30.100000      160       85.000000   94.000          23.000   \n",
       "1  45.00  Femme  90.000000      140       90.000000  127.375          19.000   \n",
       "2  60.00  Homme  35.000000      400       78.333333  130.000          25.000   \n",
       "3  49.25  Femme  24.700000      120       75.000000   85.000          22.000   \n",
       "4  40.00  Homme  29.000000      150       20.000000  100.000          23.375   \n",
       "5  55.00  Femme  32.500000      170       92.000000  110.000          26.000   \n",
       "6  30.00  Homme  34.488889      115       78.000000  300.000          20.000   \n",
       "7  52.00  Femme  31.500000      155       88.000000  105.000          23.375   \n",
       "8  49.25  Homme  27.600000      145       82.000000   95.000          22.000   \n",
       "9  62.00  Femme  10.000000      190       95.000000  127.375          30.000   \n",
       "\n",
       "   Diabetes Pedigree Function  Outcome  \n",
       "0                    0.600000        1  \n",
       "1                    0.300000        0  \n",
       "2                    0.800000        1  \n",
       "3                    0.200000        0  \n",
       "4                    0.500000        1  \n",
       "5                    0.977778        1  \n",
       "6                    0.100000        0  \n",
       "7                    0.400000        1  \n",
       "8                    5.000000        0  \n",
       "9                    0.900000        1  "
      ]
     },
     "execution_count": 91,
     "metadata": {},
     "output_type": "execute_result"
    }
   ],
   "source": [
    "df.head(10)"
   ]
  },
  {
   "cell_type": "code",
   "execution_count": 92,
   "id": "3d4bacc7-765b-43ed-9f63-ce1e9346987c",
   "metadata": {},
   "outputs": [
    {
     "data": {
      "text/html": [
       "<div>\n",
       "<style scoped>\n",
       "    .dataframe tbody tr th:only-of-type {\n",
       "        vertical-align: middle;\n",
       "    }\n",
       "\n",
       "    .dataframe tbody tr th {\n",
       "        vertical-align: top;\n",
       "    }\n",
       "\n",
       "    .dataframe thead th {\n",
       "        text-align: right;\n",
       "    }\n",
       "</style>\n",
       "<table border=\"1\" class=\"dataframe\">\n",
       "  <thead>\n",
       "    <tr style=\"text-align: right;\">\n",
       "      <th></th>\n",
       "      <th>Age</th>\n",
       "      <th>Sexe</th>\n",
       "      <th>BMI</th>\n",
       "      <th>Glucose</th>\n",
       "      <th>Blood Pressure</th>\n",
       "      <th>Insulin</th>\n",
       "      <th>Skin Thickness</th>\n",
       "      <th>Diabetes Pedigree Function</th>\n",
       "      <th>Outcome</th>\n",
       "    </tr>\n",
       "  </thead>\n",
       "  <tbody>\n",
       "    <tr>\n",
       "      <th>0</th>\n",
       "      <td>50.00</td>\n",
       "      <td>1</td>\n",
       "      <td>30.100000</td>\n",
       "      <td>160</td>\n",
       "      <td>85.000000</td>\n",
       "      <td>94.000</td>\n",
       "      <td>23.000</td>\n",
       "      <td>0.600000</td>\n",
       "      <td>1</td>\n",
       "    </tr>\n",
       "    <tr>\n",
       "      <th>1</th>\n",
       "      <td>45.00</td>\n",
       "      <td>0</td>\n",
       "      <td>90.000000</td>\n",
       "      <td>140</td>\n",
       "      <td>90.000000</td>\n",
       "      <td>127.375</td>\n",
       "      <td>19.000</td>\n",
       "      <td>0.300000</td>\n",
       "      <td>0</td>\n",
       "    </tr>\n",
       "    <tr>\n",
       "      <th>2</th>\n",
       "      <td>60.00</td>\n",
       "      <td>1</td>\n",
       "      <td>35.000000</td>\n",
       "      <td>400</td>\n",
       "      <td>78.333333</td>\n",
       "      <td>130.000</td>\n",
       "      <td>25.000</td>\n",
       "      <td>0.800000</td>\n",
       "      <td>1</td>\n",
       "    </tr>\n",
       "    <tr>\n",
       "      <th>3</th>\n",
       "      <td>49.25</td>\n",
       "      <td>0</td>\n",
       "      <td>24.700000</td>\n",
       "      <td>120</td>\n",
       "      <td>75.000000</td>\n",
       "      <td>85.000</td>\n",
       "      <td>22.000</td>\n",
       "      <td>0.200000</td>\n",
       "      <td>0</td>\n",
       "    </tr>\n",
       "    <tr>\n",
       "      <th>4</th>\n",
       "      <td>40.00</td>\n",
       "      <td>1</td>\n",
       "      <td>29.000000</td>\n",
       "      <td>150</td>\n",
       "      <td>20.000000</td>\n",
       "      <td>100.000</td>\n",
       "      <td>23.375</td>\n",
       "      <td>0.500000</td>\n",
       "      <td>1</td>\n",
       "    </tr>\n",
       "    <tr>\n",
       "      <th>5</th>\n",
       "      <td>55.00</td>\n",
       "      <td>0</td>\n",
       "      <td>32.500000</td>\n",
       "      <td>170</td>\n",
       "      <td>92.000000</td>\n",
       "      <td>110.000</td>\n",
       "      <td>26.000</td>\n",
       "      <td>0.977778</td>\n",
       "      <td>1</td>\n",
       "    </tr>\n",
       "    <tr>\n",
       "      <th>6</th>\n",
       "      <td>30.00</td>\n",
       "      <td>1</td>\n",
       "      <td>34.488889</td>\n",
       "      <td>115</td>\n",
       "      <td>78.000000</td>\n",
       "      <td>300.000</td>\n",
       "      <td>20.000</td>\n",
       "      <td>0.100000</td>\n",
       "      <td>0</td>\n",
       "    </tr>\n",
       "    <tr>\n",
       "      <th>7</th>\n",
       "      <td>52.00</td>\n",
       "      <td>0</td>\n",
       "      <td>31.500000</td>\n",
       "      <td>155</td>\n",
       "      <td>88.000000</td>\n",
       "      <td>105.000</td>\n",
       "      <td>23.375</td>\n",
       "      <td>0.400000</td>\n",
       "      <td>1</td>\n",
       "    </tr>\n",
       "    <tr>\n",
       "      <th>8</th>\n",
       "      <td>49.25</td>\n",
       "      <td>1</td>\n",
       "      <td>27.600000</td>\n",
       "      <td>145</td>\n",
       "      <td>82.000000</td>\n",
       "      <td>95.000</td>\n",
       "      <td>22.000</td>\n",
       "      <td>5.000000</td>\n",
       "      <td>0</td>\n",
       "    </tr>\n",
       "    <tr>\n",
       "      <th>9</th>\n",
       "      <td>62.00</td>\n",
       "      <td>0</td>\n",
       "      <td>10.000000</td>\n",
       "      <td>190</td>\n",
       "      <td>95.000000</td>\n",
       "      <td>127.375</td>\n",
       "      <td>30.000</td>\n",
       "      <td>0.900000</td>\n",
       "      <td>1</td>\n",
       "    </tr>\n",
       "  </tbody>\n",
       "</table>\n",
       "</div>"
      ],
      "text/plain": [
       "     Age  Sexe        BMI  Glucose  Blood Pressure  Insulin  Skin Thickness  \\\n",
       "0  50.00     1  30.100000      160       85.000000   94.000          23.000   \n",
       "1  45.00     0  90.000000      140       90.000000  127.375          19.000   \n",
       "2  60.00     1  35.000000      400       78.333333  130.000          25.000   \n",
       "3  49.25     0  24.700000      120       75.000000   85.000          22.000   \n",
       "4  40.00     1  29.000000      150       20.000000  100.000          23.375   \n",
       "5  55.00     0  32.500000      170       92.000000  110.000          26.000   \n",
       "6  30.00     1  34.488889      115       78.000000  300.000          20.000   \n",
       "7  52.00     0  31.500000      155       88.000000  105.000          23.375   \n",
       "8  49.25     1  27.600000      145       82.000000   95.000          22.000   \n",
       "9  62.00     0  10.000000      190       95.000000  127.375          30.000   \n",
       "\n",
       "   Diabetes Pedigree Function  Outcome  \n",
       "0                    0.600000        1  \n",
       "1                    0.300000        0  \n",
       "2                    0.800000        1  \n",
       "3                    0.200000        0  \n",
       "4                    0.500000        1  \n",
       "5                    0.977778        1  \n",
       "6                    0.100000        0  \n",
       "7                    0.400000        1  \n",
       "8                    5.000000        0  \n",
       "9                    0.900000        1  "
      ]
     },
     "execution_count": 92,
     "metadata": {},
     "output_type": "execute_result"
    }
   ],
   "source": [
    "#LENCODAGELEABEL HEADERENCODER\n",
    "from sklearn.preprocessing import LabelEncoder\n",
    "le = LabelEncoder()\n",
    "df['Sexe']=le.fit_transform(df['Sexe'])\n",
    "df.head(10)"
   ]
  },
  {
   "cell_type": "code",
   "execution_count": null,
   "id": "ff9fc301-6001-4c49-8957-7941e463a29a",
   "metadata": {},
   "outputs": [],
   "source": [
    "\n"
   ]
  },
  {
   "cell_type": "code",
   "execution_count": 93,
   "id": "6e765f86-0071-4415-9aea-30cefba6ee0a",
   "metadata": {},
   "outputs": [
    {
     "data": {
      "image/png": "[encoded data removed]",
      "text/plain": [
       "<Figure size 1000x500 with 1 Axes>"
      ]
     },
     "metadata": {},
     "output_type": "display_data"
    }
   ],
   "source": [
    "#1. GRAPHE affiche le diagrame pour voir les valeur abberrante\n",
    "import numpy as np\n",
    "import matplotlib.pyplot as plt\n",
    "import seaborn as sn\n",
    "import warnings#ignorer les avertissements \n",
    "warnings.filterwarnings('ignore')\n",
    "plt.figure(figsize=(10,5))\n",
    "sn.boxplot(df['BMI'])\n",
    "plt.title('valeur aberrante BMI')\n",
    "plt.show()\n",
    "\n"
   ]
  },
  {
   "cell_type": "code",
   "execution_count": 96,
   "id": "90957dc4-e348-4fda-a1fe-c7727d7a329e",
   "metadata": {},
   "outputs": [
    {
     "data": {
      "image/png": "[encoded data removed]",
      "text/plain": [
       "<Figure size 1000x500 with 1 Axes>"
      ]
     },
     "metadata": {},
     "output_type": "display_data"
    }
   ],
   "source": [
    "# Calcul des quartiles et de l'IQR pour le BMI\n",
    "Q1 = df['BMI'].quantile(0.25)  # Premier quartile (Q1)\n",
    "Q3 = df['BMI'].quantile(0.75)  # Troisième quartile (Q3)\n",
    "IQR = Q3 - Q1  # Calcul de l'IQR\n",
    "\n",
    "# Définition des bornes pour détecter les valeurs aberrantes\n",
    "borne_inferieure = Q1 - 1.5 * IQR\n",
    "borne_superieure = Q3 + 1.5 * IQR\n",
    "\n",
    "# Détection des valeurs aberrantes\n",
    "valeurs_aberrantes = df[(df['BMI'] < borne_inferieure) | (df['BMI'] > borne_superieure)]\n",
    "\n",
    "# Traitement des valeurs aberrantes\n",
    "df['BMI'] = np.where(\n",
    "    (df['BMI'] < borne_inferieure) | (df['BMI'] > borne_superieure),\n",
    "    df['BMI'].median(),  # Remplacement par la médiane\n",
    "    df['BMI']\n",
    ")\n",
    "\n",
    "# Visualisation avant et après le traitement des valeurs aberrantes\n",
    "plt.figure(figsize=(10, 5))\n",
    "sn.boxplot(df['BMI'])\n",
    "plt.title('Valeurs aberrantes corrigées pour le BMI')\n",
    "plt.show()\n"
   ]
  },
  {
   "cell_type": "code",
   "execution_count": 111,
   "id": "44f33b83-e462-4c25-9669-b26958e94b9b",
   "metadata": {
    "scrolled": true
   },
   "outputs": [
    {
     "data": {
      "image/png": "[encoded data removed]",
      "text/plain": [
       "<Figure size 1000x500 with 1 Axes>"
      ]
     },
     "metadata": {},
     "output_type": "display_data"
    },
    {
     "data": {
      "image/png": "[encoded data removed]",
      "text/plain": [
       "<Figure size 1000x500 with 1 Axes>"
      ]
     },
     "metadata": {},
     "output_type": "display_data"
    }
   ],
   "source": [
    "#calcul LES QUARTILES ET l'IQR pour les valeurs abrrante IQR= Q3-Q1  barre_inferieur barre supperieure\n",
    "#L'IQR BMI\n",
    "plt.figure(figsize=(10, 5))\n",
    "sn.boxplot(df['Glucose'])\n",
    "plt.title('Valeurs aberrantes corrigées pour le Glucose')\n",
    "plt.show()\n",
    "Q1= df['Glucose'].quantile(0.25)\n",
    "Q3= df['Glucose'].quantile(0.75)\n",
    "IQR = Q3 - Q1\n",
    "# D2FINITIONS DES BORNES POUR D2TECTER LES VALEURS ABERRANTES \n",
    "borne_inferieure = Q1-1.5*IQR\n",
    "borne_superieure= Q3+1.5*IQR\n",
    "valeurs_abérrantes = df[( df['Glucose']<borne_inferieure) | (df['Glucose']>borne_superieure)]\n",
    "\n",
    "# Traitement des valeurs aberrantes\n",
    "df['Glucose'] = np.where(\n",
    "    (df['Glucose'] < borne_inferieure) | (df['Glucose'] > borne_superieure),\n",
    "    df['Glucose'].median(),  # Remplacement par la médiane\n",
    "    df['Glucose']\n",
    ")\n",
    "# Visualisation avant et après le traitement des valeurs aberrantes\n",
    "plt.figure(figsize=(10, 5))\n",
    "sn.boxplot(df['Glucose'])\n",
    "plt.title('Valeurs aberrantes corrigées pour le Glucose')\n",
    "plt.show()"
   ]
  },
  {
   "cell_type": "code",
   "execution_count": 110,
   "id": "f2481220-45e1-4f95-89c5-e05b0d64863b",
   "metadata": {},
   "outputs": [
    {
     "data": {
      "image/png": "[encoded data removed]",
      "text/plain": [
       "<Figure size 1000x500 with 1 Axes>"
      ]
     },
     "metadata": {},
     "output_type": "display_data"
    }
   ],
   "source": [
    "#calcul LES QUARTILES ET l'IQR pour les valeurs abrrante IQR= Q3-Q1  barre_inferieur barre supperieure\n",
    "#L'IQR BMI\n",
    "\n",
    "Q1=df['Skin Thickness'].quantile(0.25)\n",
    "Q3=df['Skin Thickness'].quantile(0.75)\n",
    "IQR = Q3 - Q1\n",
    "# D2FINITIONS DES BORNES POUR D2TECTER LES VALEURS ABERRANTES \n",
    "borne_inferieure = Q1-1.5*IQR\n",
    "borne_superieure= Q3+1.5*IQR\n",
    "valeurs_abérrantes = df[( df['Skin Thickness']<borne_inferieure) | (df['Skin Thickness']>borne_superieure)]\n",
    "# 4. TRAITEMENT DES VALEURS ABérrates\n",
    "df['Skin Thickness']= np.where(\n",
    "          (df['Skin Thickness']< borne_inferieure) | (df['Skin Thickness'] > borne_superieure),\n",
    "           df['Skin Thickness'].median(),\n",
    "           df['Skin Thickness']\n",
    "          )\n",
    "\n",
    "plt.figure(figsize=(10,5))\n",
    "sn.boxplot(df['Skin Thickness'])\n",
    "plt.title('valeur aberrante Skin Thickness')\n",
    "plt.show()"
   ]
  },
  {
   "cell_type": "code",
   "execution_count": 112,
   "id": "a1ce2a77-023f-4cdf-81e2-5b1f91ae703c",
   "metadata": {},
   "outputs": [
    {
     "data": {
      "image/png": "[encoded data removed]",
      "text/plain": [
       "<Figure size 1000x500 with 1 Axes>"
      ]
     },
     "metadata": {},
     "output_type": "display_data"
    }
   ],
   "source": [
    "#calcul LES QUARTILES ET l'IQR pour les valeurs abrrante IQR= Q3-Q1  barre_inferieur barre supperieure\n",
    "#L'IQR BMI\n",
    "\n",
    "Q1=df['Insulin'].quantile(0.25)\n",
    "Q3=df['Insulin'].quantile(0.75)\n",
    "IQR = Q3 - Q1\n",
    "# D2FINITIONS DES BORNES POUR D2TECTER LES VALEURS ABERRANTES \n",
    "borne_inferieure = Q1-1.5*IQR\n",
    "borne_superieure= Q3+1.5*IQR\n",
    "valeurs_abérrantes = df[( df['Insulin']<borne_inferieure) | (df['Insulin']>borne_superieure)]\n",
    "# 4. TRAITEMENT DES VALEURS ABérrates\n",
    "df['Insulin']=np.where(\n",
    "    (df['Insulin'] < borne_inferieure )| (df['Insulin'] > borne_superieure),\n",
    "     df['Insulin'].median(),\n",
    "     df['Insulin']\n",
    "    )\n",
    "plt.figure(figsize=(10,5))\n",
    "sn.boxplot(df['Insulin'])\n",
    "plt.title('valeur aberrante Insulin')\n",
    "plt.show()\n"
   ]
  },
  {
   "cell_type": "code",
   "execution_count": 113,
   "id": "4775330b-e803-44d0-831a-ca5000789d37",
   "metadata": {},
   "outputs": [
    {
     "data": {
      "image/png": "[encoded data removed]",
      "text/plain": [
       "<Figure size 1000x500 with 1 Axes>"
      ]
     },
     "metadata": {},
     "output_type": "display_data"
    }
   ],
   "source": [
    "#calcul LES QUARTILES ET l'IQR pour les valeurs abrrante IQR= Q3-Q1  barre_inferieur barre supperieure\n",
    "#L'IQR BMI\n",
    "\n",
    "Q1=df['Blood Pressure'].quantile(0.25)\n",
    "Q3=df['Blood Pressure'].quantile(0.75)\n",
    "IQR = Q3 - Q1\n",
    "# D2FINITIONS DES BORNES POUR D2TECTER LES VALEURS ABERRANTES \n",
    "borne_inferieure = Q1-1.5*IQR\n",
    "borne_superieure= Q3+1.5*IQR\n",
    "valeurs_abérrantes = df[( df['Blood Pressure']<borne_inferieure) | (df['Blood Pressure']>borne_superieure)]\n",
    "# 4. TRAITEMENT DES VALEURS ABérrates\n",
    "df['Blood Pressure']=np.where(\n",
    "    (df['Blood Pressure'] < borne_inferieure )| (df['Blood Pressure'] > borne_superieure),\n",
    "     df['Blood Pressure'].median(),\n",
    "     df['Blood Pressure']\n",
    "    )\n",
    "plt.figure(figsize=(10,5))\n",
    "sn.boxplot(df['Blood Pressure'])\n",
    "plt.title('valeur aberrante Blood Pressure\t')\n",
    "plt.show()"
   ]
  },
  {
   "cell_type": "code",
   "execution_count": 118,
   "id": "34ad20f6-4c09-4237-982a-335ad5ae0b04",
   "metadata": {},
   "outputs": [
    {
     "name": "stdout",
     "output_type": "stream",
     "text": [
      "[[ 0.08419529  1.         -0.53746745  0.87387099  0.0509237  -0.9510383\n",
      "   0.1543286  -0.27584902  0.81649658]\n",
      " [-0.47710664 -1.         -0.21282268 -0.36346846  0.85498211  1.29610529\n",
      "  -1.86139193 -0.49490559 -1.22474487]\n",
      " [ 1.20679916  1.          1.73504592  0.40986869 -1.02115418  1.47284692\n",
      "   1.16218887 -0.1298113   0.81649658]\n",
      " [ 0.         -1.         -0.21282268 -1.60080791 -1.55719312 -1.55700961\n",
      "  -0.34960153 -0.56792445 -1.22474487]\n",
      " [-1.03840858  1.         -1.04762351  0.25520126 -0.19029382 -0.54705743\n",
      "   0.3433024  -0.34886787  0.81649658]\n",
      " [ 0.64549722 -1.          0.57560032  1.49254071  1.17660547  0.12624402\n",
      "   1.66611901  0.          0.81649658]\n",
      " [-2.16101245  1.          1.49800371 -1.91014277 -1.07475807 -0.04208134\n",
      "  -1.3574618  -0.6409433  -1.22474487]\n",
      " [ 0.30871606 -1.          0.11182209  0.56453612  0.53335874 -0.2104067\n",
      "   0.3433024  -0.42188673  0.81649658]\n",
      " [ 0.          1.         -1.69691304 -0.0541336  -0.43151135 -0.88370815\n",
      "  -0.34960153  2.93698071 -1.22474487]\n",
      " [ 1.43131993 -1.         -0.21282268  0.33253498  1.65904052  1.29610529\n",
      "   0.2488155  -0.05679244  0.81649658]]\n"
     ]
    }
   ],
   "source": [
    "#standarisation\n",
    "from sklearn.preprocessing import StandardScaler \n",
    "sd=StandardScaler()\n",
    "df_scaler = sd.fit_transform(df)\n",
    "print(df_scaler)"
   ]
  },
  {
   "cell_type": "code",
   "execution_count": 120,
   "id": "bf2bb2a0-ebc0-4698-8d2a-b70db031ebbf",
   "metadata": {},
   "outputs": [
    {
     "data": {
      "text/html": [
       "<style>#sk-container-id-1 {color: black;background-color: white;}#sk-container-id-1 pre{padding: 0;}#sk-container-id-1 div.sk-toggleable {background-color: white;}#sk-container-id-1 label.sk-toggleable__label {cursor: pointer;display: block;width: 100%;margin-bottom: 0;padding: 0.3em;box-sizing: border-box;text-align: center;}#sk-container-id-1 label.sk-toggleable__label-arrow:before {content: \"▸\";float: left;margin-right: 0.25em;color: #696969;}#sk-container-id-1 label.sk-toggleable__label-arrow:hover:before {color: black;}#sk-container-id-1 div.sk-estimator:hover label.sk-toggleable__label-arrow:before {color: black;}#sk-container-id-1 div.sk-toggleable__content {max-height: 0;max-width: 0;overflow: hidden;text-align: left;background-color: #f0f8ff;}#sk-container-id-1 div.sk-toggleable__content pre {margin: 0.2em;color: black;border-radius: 0.25em;background-color: #f0f8ff;}#sk-container-id-1 input.sk-toggleable__control:checked~div.sk-toggleable__content {max-height: 200px;max-width: 100%;overflow: auto;}#sk-container-id-1 input.sk-toggleable__control:checked~label.sk-toggleable__label-arrow:before {content: \"▾\";}#sk-container-id-1 div.sk-estimator input.sk-toggleable__control:checked~label.sk-toggleable__label {background-color: #d4ebff;}#sk-container-id-1 div.sk-label input.sk-toggleable__control:checked~label.sk-toggleable__label {background-color: #d4ebff;}#sk-container-id-1 input.sk-hidden--visually {border: 0;clip: rect(1px 1px 1px 1px);clip: rect(1px, 1px, 1px, 1px);height: 1px;margin: -1px;overflow: hidden;padding: 0;position: absolute;width: 1px;}#sk-container-id-1 div.sk-estimator {font-family: monospace;background-color: #f0f8ff;border: 1px dotted black;border-radius: 0.25em;box-sizing: border-box;margin-bottom: 0.5em;}#sk-container-id-1 div.sk-estimator:hover {background-color: #d4ebff;}#sk-container-id-1 div.sk-parallel-item::after {content: \"\";width: 100%;border-bottom: 1px solid gray;flex-grow: 1;}#sk-container-id-1 div.sk-label:hover label.sk-toggleable__label {background-color: #d4ebff;}#sk-container-id-1 div.sk-serial::before {content: \"\";position: absolute;border-left: 1px solid gray;box-sizing: border-box;top: 0;bottom: 0;left: 50%;z-index: 0;}#sk-container-id-1 div.sk-serial {display: flex;flex-direction: column;align-items: center;background-color: white;padding-right: 0.2em;padding-left: 0.2em;position: relative;}#sk-container-id-1 div.sk-item {position: relative;z-index: 1;}#sk-container-id-1 div.sk-parallel {display: flex;align-items: stretch;justify-content: center;background-color: white;position: relative;}#sk-container-id-1 div.sk-item::before, #sk-container-id-1 div.sk-parallel-item::before {content: \"\";position: absolute;border-left: 1px solid gray;box-sizing: border-box;top: 0;bottom: 0;left: 50%;z-index: -1;}#sk-container-id-1 div.sk-parallel-item {display: flex;flex-direction: column;z-index: 1;position: relative;background-color: white;}#sk-container-id-1 div.sk-parallel-item:first-child::after {align-self: flex-end;width: 50%;}#sk-container-id-1 div.sk-parallel-item:last-child::after {align-self: flex-start;width: 50%;}#sk-container-id-1 div.sk-parallel-item:only-child::after {width: 0;}#sk-container-id-1 div.sk-dashed-wrapped {border: 1px dashed gray;margin: 0 0.4em 0.5em 0.4em;box-sizing: border-box;padding-bottom: 0.4em;background-color: white;}#sk-container-id-1 div.sk-label label {font-family: monospace;font-weight: bold;display: inline-block;line-height: 1.2em;}#sk-container-id-1 div.sk-label-container {text-align: center;}#sk-container-id-1 div.sk-container {/* jupyter's `normalize.less` sets `[hidden] { display: none; }` but bootstrap.min.css set `[hidden] { display: none !important; }` so we also need the `!important` here to be able to override the default hidden behavior on the sphinx rendered scikit-learn.org. See: https://github.com/scikit-learn/scikit-learn/issues/21755 */display: inline-block !important;position: relative;}#sk-container-id-1 div.sk-text-repr-fallback {display: none;}</style><div id=\"sk-container-id-1\" class=\"sk-top-container\"><div class=\"sk-text-repr-fallback\"><pre>KMeans(n_clusters=2, random_state=42)</pre><b>In a Jupyter environment, please rerun this cell to show the HTML representation or trust the notebook. <br />On GitHub, the HTML representation is unable to render, please try loading this page with nbviewer.org.</b></div><div class=\"sk-container\" hidden><div class=\"sk-item\"><div class=\"sk-estimator sk-toggleable\"><input class=\"sk-toggleable__control sk-hidden--visually\" id=\"sk-estimator-id-1\" type=\"checkbox\" checked><label for=\"sk-estimator-id-1\" class=\"sk-toggleable__label sk-toggleable__label-arrow\">KMeans</label><div class=\"sk-toggleable__content\"><pre>KMeans(n_clusters=2, random_state=42)</pre></div></div></div></div></div>"
      ],
      "text/plain": [
       "KMeans(n_clusters=2, random_state=42)"
      ]
     },
     "execution_count": 120,
     "metadata": {},
     "output_type": "execute_result"
    }
   ],
   "source": [
    "from sklearn.cluster import KMeans\n",
    "\n",
    "# Initialisation du modèle avec 2 clusters\n",
    "kmeans = KMeans(n_clusters=2, random_state=42)  # `random_state` pour reproductibilité\n",
    "\n",
    "# Ajustement du modèle sur les données\n",
    "kmeans.fit(df_scaler)"
   ]
  },
  {
   "cell_type": "code",
   "execution_count": 123,
   "id": "1d5f6039-cd10-40d0-adc0-f648a0fa874e",
   "metadata": {},
   "outputs": [
    {
     "name": "stdout",
     "output_type": "stream",
     "text": [
      "[1]\n"
     ]
    }
   ],
   "source": [
    "# prediction \n",
    "data_p =[[ 1.43131993 ,-1,-0.2 , 0.3,  1.6 , 1.2,0.2, -0.05 , 0.8]]\n",
    "p = kmeans.predict(data_p)\n",
    "print(p)"
   ]
  },
  {
   "cell_type": "code",
   "execution_count": 125,
   "id": "cc0710be-ccfc-490b-a303-b3ac9d46c348",
   "metadata": {},
   "outputs": [
    {
     "data": {
      "image/png": "[encoded data removed]",
      "text/plain": [
       "<Figure size 1000x500 with 1 Axes>"
      ]
     },
     "metadata": {},
     "output_type": "display_data"
    }
   ],
   "source": [
    "\n",
    "from sklearn.cluster import KMeans\n",
    "#Méthode du coude \n",
    "#Elle est basée sur le fait que la somme de la variance intraclusy=ters peut  etre reduire grace \n",
    "# à l'augmentation du nombre de clusters \n",
    "#liste pour stocker le inertias pour chaque K \n",
    "inertias = []\n",
    "# calculer le inertias pour les valeurs de k de 1 a 10\n",
    "k_range = range(1, 10)\n",
    "\n",
    "for k in k_range:\n",
    "    kmeans = KMeans(n_clusters=k, random_state=42)\n",
    "    kmeans.fit(df_scaler)\n",
    "    inertias.append(kmeans.inertia_) #inertia_ CORRESPOND AU inertias\n",
    "#TRACER LE GRAPHIQUE\n",
    "plt.figure(figsize=(10, 5))\n",
    "plt.plot(k_range, inertias, marker='o')\n",
    "plt.title(\"Méthode du coude\")\n",
    "plt.xlabel(\"Nombre de clusters (k)\")\n",
    "plt.ylabel(\"Inertie\")\n",
    "plt.show()"
   ]
  },
  {
   "cell_type": "code",
   "execution_count": null,
   "id": "374bf7ff-89fd-4c60-8e4d-4795ebd8509d",
   "metadata": {},
   "outputs": [],
   "source": []
  }
 ],
 "metadata": {
  "kernelspec": {
   "display_name": "Python 3 (ipykernel)",
   "language": "python",
   "name": "python3"
  },
  "language_info": {
   "codemirror_mode": {
    "name": "ipython",
    "version": 3
   },
   "file_extension": ".py",
   "mimetype": "text/x-python",
   "name": "python",
   "nbconvert_exporter": "python",
   "pygments_lexer": "ipython3",
   "version": "3.11.7"
  }
 },
 "nbformat": 4,
 "nbformat_minor": 5
}
